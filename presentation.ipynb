{
 "cells": [
  {
   "cell_type": "markdown",
   "id": "9c5e4319-7251-429d-b33f-5ceb6881306f",
   "metadata": {},
   "source": [
    "Names, team names, etc"
   ]
  },
  {
   "cell_type": "code",
   "execution_count": 3,
   "id": "01ed591f-bcc7-40f7-8b4f-3978891386e0",
   "metadata": {},
   "outputs": [],
   "source": [
    "##Household Income\n",
    "import pandas as pd\n",
    "import numpy as np\n",
    "filed = pd.read_csv(\"HouseholdIncome.csv\")"
   ]
  },
  {
   "cell_type": "code",
   "execution_count": 5,
   "id": "d73bb196-7809-4001-bded-6ac2081fbe89",
   "metadata": {},
   "outputs": [
    {
     "data": {
      "text/html": [
       "<div>\n",
       "<style scoped>\n",
       "    .dataframe tbody tr th:only-of-type {\n",
       "        vertical-align: middle;\n",
       "    }\n",
       "\n",
       "    .dataframe tbody tr th {\n",
       "        vertical-align: top;\n",
       "    }\n",
       "\n",
       "    .dataframe thead th {\n",
       "        text-align: right;\n",
       "    }\n",
       "</style>\n",
       "<table border=\"1\" class=\"dataframe\">\n",
       "  <thead>\n",
       "    <tr style=\"text-align: right;\">\n",
       "      <th></th>\n",
       "      <th>Average Income</th>\n",
       "    </tr>\n",
       "  </thead>\n",
       "  <tbody>\n",
       "    <tr>\n",
       "      <th>Squirrel Hill North</th>\n",
       "      <td>103771.513353</td>\n",
       "    </tr>\n",
       "    <tr>\n",
       "      <th>Strip District</th>\n",
       "      <td>96509.615385</td>\n",
       "    </tr>\n",
       "    <tr>\n",
       "      <th>Point Breeze</th>\n",
       "      <td>96468.830060</td>\n",
       "    </tr>\n",
       "    <tr>\n",
       "      <th>Regent Square</th>\n",
       "      <td>86785.714286</td>\n",
       "    </tr>\n",
       "    <tr>\n",
       "      <th>Central Business District</th>\n",
       "      <td>78666.158537</td>\n",
       "    </tr>\n",
       "  </tbody>\n",
       "</table>\n",
       "</div>"
      ],
      "text/plain": [
       "                           Average Income\n",
       "Squirrel Hill North         103771.513353\n",
       "Strip District               96509.615385\n",
       "Point Breeze                 96468.830060\n",
       "Regent Square                86785.714286\n",
       "Central Business District    78666.158537"
      ]
     },
     "execution_count": 5,
     "metadata": {},
     "output_type": "execute_result"
    }
   ],
   "source": [
    "dictionary = dict()\n",
    "for index, row in filed.iterrows():\n",
    "    neighborhood = row['Neighborhood']\n",
    "    income = 5000 * float(row['Estimate; Total: - Less than $10,000'])\n",
    "    income += 10000 * float(row['Estimate; Total: - $10,000 to $14,999'])\n",
    "    income += 15000 * float(row['Estimate; Total: - $15,000 to $19,999'])\n",
    "    income += 20000 * float(row['Estimate; Total: - $20,000 to $24,999'])\n",
    "    income += 25000 * float(row['Estimate; Total: - $25,000 to $29,999'])\n",
    "    income += 30000 * float(row['Estimate; Total: - $30,000 to $34,999'])\n",
    "    income += 35000 * float(row['Estimate; Total: - $35,000 to $39,999'])\n",
    "    income += 40000 * float(row['Estimate; Total: - $40,000 to $44,999'])\n",
    "    income += 45000 * float(row['Estimate; Total: - $45,000 to $49,999'])\n",
    "    income += 50000 * float(row['Estimate; Total: - $50,000 to $59,999'])\n",
    "    income += 60000 * float(row['Estimate; Total: - $60,000 to $74,999'])\n",
    "    income += 75000 * float(row['Estimate; Total: - $75,000 to $99,999'])\n",
    "    income += 100000 * float(row['Estimate; Total: - $100,000 to $124,999'])\n",
    "    income += 125000 * float(row['Estimate; Total: - $125,000 to $149,999'])\n",
    "    income += 150000 * float(row['Estimate; Total: - $150,000 to $199,999'])\n",
    "    income += 200000 * float(row['Estimate; Total: - $200,000 or more'])\n",
    "    income /= float(row['Estimate; Total:'])\n",
    "    dictionary[neighborhood] = income\n",
    "data = pd.DataFrame.from_dict(dictionary, orient = 'index', columns = ['Average Income'])\n",
    "##next line sorts it by largest average income to least\n",
    "data = data.sort_values(by = 'Average Income', ascending = False)\n",
    "data.head(5)\n",
    "##just so you see what this dataframe looks like"
   ]
  },
  {
   "cell_type": "code",
   "execution_count": null,
   "id": "1c721813-6d5d-473d-87a6-8ee815a7824f",
   "metadata": {},
   "outputs": [],
   "source": [
    "Poverty Status"
   ]
  },
  {
   "cell_type": "code",
   "execution_count": null,
   "id": "112cb681-136e-4973-a2dc-c8181e628357",
   "metadata": {},
   "outputs": [],
   "source": []
  },
  {
   "cell_type": "code",
   "execution_count": null,
   "id": "4fd1f3c6-20e4-4743-a1cb-7a4a8206d379",
   "metadata": {},
   "outputs": [],
   "source": [
    "Homeless Rate"
   ]
  },
  {
   "cell_type": "code",
   "execution_count": null,
   "id": "cc610d20-21b2-4f6c-95e4-952a824bc9d4",
   "metadata": {},
   "outputs": [],
   "source": []
  },
  {
   "cell_type": "code",
   "execution_count": null,
   "id": "34424783-d916-4ed3-8a38-687d7d08e5b9",
   "metadata": {},
   "outputs": [],
   "source": [
    "merge into big pandas dataframe"
   ]
  },
  {
   "cell_type": "code",
   "execution_count": null,
   "id": "45ed1bb6-ce74-4fce-b77f-461aee338b63",
   "metadata": {},
   "outputs": [],
   "source": [
    "##merged metric: top place of each metric gets score of amount of neighborhoods listed in that metric, second gets that score - 1, etc..."
   ]
  },
  {
   "cell_type": "code",
   "execution_count": null,
   "id": "b2078270-d10a-4c69-99bd-c5c94a865112",
   "metadata": {},
   "outputs": [],
   "source": [
    "##graphs and charts time"
   ]
  }
 ],
 "metadata": {
  "kernelspec": {
   "display_name": "Python 3 (ipykernel)",
   "language": "python",
   "name": "python3"
  },
  "language_info": {
   "codemirror_mode": {
    "name": "ipython",
    "version": 3
   },
   "file_extension": ".py",
   "mimetype": "text/x-python",
   "name": "python",
   "nbconvert_exporter": "python",
   "pygments_lexer": "ipython3",
   "version": "3.12.4"
  }
 },
 "nbformat": 4,
 "nbformat_minor": 5
}
