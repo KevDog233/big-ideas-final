{
 "cells": [
  {
   "cell_type": "code",
   "execution_count": 1,
   "id": "dd5b211b-c55b-4f9d-8a42-afc7b1915713",
   "metadata": {},
   "outputs": [],
   "source": [
    "import pandas as pd\n",
    "import numpy as np\n",
    "filed = pd.read_csv(\"HouseholdIncome.csv\")"
   ]
  },
  {
   "cell_type": "markdown",
   "id": "0959951b-2f2c-48bd-a2b7-442c118ef790",
   "metadata": {},
   "source": [
    "Submetric is Average Household Income in past 12 months (2014-2015)"
   ]
  },
  {
   "cell_type": "code",
   "execution_count": 15,
   "id": "d08e8433-9373-4cac-9a74-927c381d6fcd",
   "metadata": {},
   "outputs": [
    {
     "data": {
      "text/html": [
       "<div>\n",
       "<style scoped>\n",
       "    .dataframe tbody tr th:only-of-type {\n",
       "        vertical-align: middle;\n",
       "    }\n",
       "\n",
       "    .dataframe tbody tr th {\n",
       "        vertical-align: top;\n",
       "    }\n",
       "\n",
       "    .dataframe thead th {\n",
       "        text-align: right;\n",
       "    }\n",
       "</style>\n",
       "<table border=\"1\" class=\"dataframe\">\n",
       "  <thead>\n",
       "    <tr style=\"text-align: right;\">\n",
       "      <th></th>\n",
       "      <th>Average Income</th>\n",
       "    </tr>\n",
       "  </thead>\n",
       "  <tbody>\n",
       "    <tr>\n",
       "      <th>Squirrel Hill North</th>\n",
       "      <td>103771.513353</td>\n",
       "    </tr>\n",
       "    <tr>\n",
       "      <th>Strip District</th>\n",
       "      <td>96509.615385</td>\n",
       "    </tr>\n",
       "    <tr>\n",
       "      <th>Point Breeze</th>\n",
       "      <td>96468.830060</td>\n",
       "    </tr>\n",
       "    <tr>\n",
       "      <th>Regent Square</th>\n",
       "      <td>86785.714286</td>\n",
       "    </tr>\n",
       "    <tr>\n",
       "      <th>Central Business District</th>\n",
       "      <td>78666.158537</td>\n",
       "    </tr>\n",
       "    <tr>\n",
       "      <th>Allegheny West</th>\n",
       "      <td>75582.191781</td>\n",
       "    </tr>\n",
       "    <tr>\n",
       "      <th>Squirrel Hill South</th>\n",
       "      <td>70793.232561</td>\n",
       "    </tr>\n",
       "    <tr>\n",
       "      <th>North Shore</th>\n",
       "      <td>69188.311688</td>\n",
       "    </tr>\n",
       "    <tr>\n",
       "      <th>Fairywood</th>\n",
       "      <td>68598.130841</td>\n",
       "    </tr>\n",
       "    <tr>\n",
       "      <th>Highland Park</th>\n",
       "      <td>67541.148808</td>\n",
       "    </tr>\n",
       "  </tbody>\n",
       "</table>\n",
       "</div>"
      ],
      "text/plain": [
       "                           Average Income\n",
       "Squirrel Hill North         103771.513353\n",
       "Strip District               96509.615385\n",
       "Point Breeze                 96468.830060\n",
       "Regent Square                86785.714286\n",
       "Central Business District    78666.158537\n",
       "Allegheny West               75582.191781\n",
       "Squirrel Hill South          70793.232561\n",
       "North Shore                  69188.311688\n",
       "Fairywood                    68598.130841\n",
       "Highland Park                67541.148808"
      ]
     },
     "execution_count": 15,
     "metadata": {},
     "output_type": "execute_result"
    }
   ],
   "source": [
    "dictionary = dict()\n",
    "for index, row in filed.iterrows():\n",
    "    neighborhood = row['Neighborhood']\n",
    "    income = 5000 * float(row['Estimate; Total: - Less than $10,000'])\n",
    "    income += 10000 * float(row['Estimate; Total: - $10,000 to $14,999'])\n",
    "    income += 15000 * float(row['Estimate; Total: - $15,000 to $19,999'])\n",
    "    income += 20000 * float(row['Estimate; Total: - $20,000 to $24,999'])\n",
    "    income += 25000 * float(row['Estimate; Total: - $25,000 to $29,999'])\n",
    "    income += 30000 * float(row['Estimate; Total: - $30,000 to $34,999'])\n",
    "    income += 35000 * float(row['Estimate; Total: - $35,000 to $39,999'])\n",
    "    income += 40000 * float(row['Estimate; Total: - $40,000 to $44,999'])\n",
    "    income += 45000 * float(row['Estimate; Total: - $45,000 to $49,999'])\n",
    "    income += 50000 * float(row['Estimate; Total: - $50,000 to $59,999'])\n",
    "    income += 60000 * float(row['Estimate; Total: - $60,000 to $74,999'])\n",
    "    income += 75000 * float(row['Estimate; Total: - $75,000 to $99,999'])\n",
    "    income += 100000 * float(row['Estimate; Total: - $100,000 to $124,999'])\n",
    "    income += 125000 * float(row['Estimate; Total: - $125,000 to $149,999'])\n",
    "    income += 150000 * float(row['Estimate; Total: - $150,000 to $199,999'])\n",
    "    income += 200000 * float(row['Estimate; Total: - $200,000 or more'])\n",
    "    income /= float(row['Estimate; Total:'])\n",
    "    dictionary[neighborhood] = income\n",
    "data = pd.DataFrame.from_dict(dictionary, orient = 'index', columns = ['Average Income'])\n",
    "\n",
    "data = data.sort_values(by = 'Average Income', ascending = False)\n",
    "data.head(10)"
   ]
  },
  {
   "cell_type": "code",
   "execution_count": 19,
   "id": "731291de-e2f4-4200-a062-a8fc60426e06",
   "metadata": {},
   "outputs": [
    {
     "data": {
      "image/png": "[encoded data removed]",
      "text/plain": [
       "<Figure size 640x480 with 1 Axes>"
      ]
     },
     "metadata": {},
     "output_type": "display_data"
    }
   ],
   "source": [
    "import matplotlib.pyplot as plt\n",
    "\n",
    "fig, ax = plt.subplots()\n",
    "\n",
    "neighborhoods = data.head(5).axes[0].tolist()\n",
    "incomes = []\n",
    "counter = 0\n",
    "for index, row in data.iterrows():\n",
    "    counter += 1\n",
    "    incomes.append(row['Average Income'])\n",
    "    if counter == 5:\n",
    "        break\n",
    "\n",
    "ax.bar(neighborhoods, incomes)\n",
    "\n",
    "ax.set_ylabel('Average Income')\n",
    "ax.set_title('Average Income by Neighborhood')\n",
    "\n",
    "plt.show()"
   ]
  },
  {
   "cell_type": "code",
   "execution_count": null,
   "id": "b8d15b82-c49f-4d1e-be61-e1b9cceec0c7",
   "metadata": {},
   "outputs": [],
   "source": []
  }
 ],
 "metadata": {
  "kernelspec": {
   "display_name": "Python 3 (ipykernel)",
   "language": "python",
   "name": "python3"
  },
  "language_info": {
   "codemirror_mode": {
    "name": "ipython",
    "version": 3
   },
   "file_extension": ".py",
   "mimetype": "text/x-python",
   "name": "python",
   "nbconvert_exporter": "python",
   "pygments_lexer": "ipython3",
   "version": "3.12.4"
  }
 },
 "nbformat": 4,
 "nbformat_minor": 5
}
